{
 "cells": [
  {
   "cell_type": "code",
   "execution_count": null,
   "metadata": {},
   "outputs": [],
   "source": [
    "Python OOPs Concepts\n",
    "Like other general purpose languages, python is also an object-oriented language since its beginning. Python is an object-oriented programming language. It allows us to develop applications using an Object Oriented approach. In Python, we can easily create and use classes and objects.\n",
    "\n",
    "Major principles of object-oriented programming system are given below.\n",
    "\n",
    "Object\n",
    "Class\n",
    "Method\n",
    "Inheritance\n",
    "Polymorphism\n",
    "Data Abstraction\n",
    "Encapsulation"
   ]
  },
  {
   "cell_type": "code",
   "execution_count": null,
   "metadata": {},
   "outputs": [],
   "source": [
    "Object\n",
    "The object is an entity that has state and behavior.\n",
    "It may be any real-world object like the mouse, keyboard, chair, table, pen, etc.\n",
    "Everything in Python is an object, and almost everything has attributes and methods. \n",
    "All functions have a built-in attribute __doc__,\n",
    "which returns the doc string defined in the function source code."
   ]
  },
  {
   "cell_type": "code",
   "execution_count": null,
   "metadata": {},
   "outputs": [],
   "source": [
    "Class\n",
    "The class can be defined as a collection of objects. \n",
    "It is a logical entity that has some specific attributes and methods.\n",
    "For example: if you have an employee class then \n",
    "    it should contain an attribute and method, i.e. an email id, name, age, salary, etc."
   ]
  },
  {
   "cell_type": "code",
   "execution_count": null,
   "metadata": {},
   "outputs": [],
   "source": [
    "Method\n",
    "The method is a function that is associated with an object.\n",
    "In Python, a method is not unique to class instances. Any object type can have methods."
   ]
  },
  {
   "cell_type": "code",
   "execution_count": null,
   "metadata": {},
   "outputs": [],
   "source": [
    "Inheritance\n",
    "Inheritance is the most important aspect of object-oriented programming which\n",
    "simulates the real world concept of inheritance. It specifies that the child object \n",
    "acquires all the properties and behaviors of the parent object.\n",
    "\n",
    "By using inheritance, we can create a class which uses all the properties and\n",
    "behavior of another class. The new class is known as a derived class or child class, \n",
    "and the one whose properties are acquired is known as a base class or parent class.\n",
    "\n",
    "It provides re-usability of the code."
   ]
  },
  {
   "cell_type": "code",
   "execution_count": null,
   "metadata": {},
   "outputs": [],
   "source": [
    "Polymorphism\n",
    "Polymorphism contains two words \"poly\" and \"morphs\". Poly means many and Morphs means form, shape.\n",
    "By polymorphism, we understand that one task can be performed in different ways.\n",
    "For example You have a class animal, and all animals speak. But they speak differently. \n",
    "Here, the \"speak\" behavior is polymorphic in the sense and depends on the animal. \n",
    "So, the abstract \"animal\" concept does not actually \"speak\",\n",
    "but specific animals (like dogs and cats) have a concrete implementation of the action \"speak\"."
   ]
  },
  {
   "cell_type": "code",
   "execution_count": null,
   "metadata": {},
   "outputs": [],
   "source": [
    "Encapsulation\n",
    "Encapsulation is also an important aspect of object-oriented programming. \n",
    "It is used to restrict access to methods and variables. In encapsulation, \n",
    "code and data are wrapped together within a single unit from being modified by accident."
   ]
  },
  {
   "cell_type": "code",
   "execution_count": null,
   "metadata": {},
   "outputs": [],
   "source": [
    "Data Abstraction\n",
    "Data abstraction and encapsulation both are often used as synonyms. \n",
    "Both are nearly synonym because data abstraction is achieved through encapsulation.\n",
    "\n",
    "Abstraction is used to hide internal details and show only functionalities. \n",
    "Abstracting something means to give names to things so that the name captures the\n",
    "core of what a function or a whole program does."
   ]
  }
 ],
 "metadata": {
  "kernelspec": {
   "display_name": "Python 3",
   "language": "python",
   "name": "python3"
  },
  "language_info": {
   "codemirror_mode": {
    "name": "ipython",
    "version": 3
   },
   "file_extension": ".py",
   "mimetype": "text/x-python",
   "name": "python",
   "nbconvert_exporter": "python",
   "pygments_lexer": "ipython3",
   "version": "3.7.3"
  }
 },
 "nbformat": 4,
 "nbformat_minor": 4
}
